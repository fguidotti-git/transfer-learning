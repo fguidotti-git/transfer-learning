{
  "nbformat": 4,
  "nbformat_minor": 0,
  "metadata": {
    "colab": {
      "provenance": [],
      "authorship_tag": "ABX9TyM07l2wxrgbYpJtQdc+5LDS",
      "include_colab_link": true
    },
    "kernelspec": {
      "name": "python3",
      "display_name": "Python 3"
    },
    "language_info": {
      "name": "python"
    }
  },
  "cells": [
    {
      "cell_type": "markdown",
      "metadata": {
        "id": "view-in-github",
        "colab_type": "text"
      },
      "source": [
        "<a href=\"https://colab.research.google.com/github/fguidotti-git/transfer-learning/blob/main/DIO_TransferLearn.ipynb\" target=\"_parent\"><img src=\"https://colab.research.google.com/assets/colab-badge.svg\" alt=\"Open In Colab\"/></a>"
      ]
    },
    {
      "cell_type": "code",
      "source": [
        "import os, zipfile\n",
        "from pathlib import Path\n",
        "import tensorflow as tf\n",
        "\n",
        "URL = \"https://download.microsoft.com/download/3/e/1/3e1c3f21-ecdb-4869-8368-6deba77b919f/kagglecatsanddogs_5340.zip\"\n",
        "\n",
        "# 1) Baixar SEM extrair automaticamente\n",
        "zip_path = tf.keras.utils.get_file(origin=URL, fname=\"kagglecatsanddogs_5340.zip\", extract=False)\n",
        "print(\"ZIP baixado:\", zip_path, \"| existe?\", os.path.isfile(zip_path))\n",
        "\n",
        "# 2) Extrair manualmente para /content/datasets_ms\n",
        "EXTRACT_ROOT = Path(\"/content/datasets_ms\")\n",
        "EXTRACT_ROOT.mkdir(parents=True, exist_ok=True)\n",
        "with zipfile.ZipFile(zip_path, 'r') as zf:\n",
        "    zf.extractall(EXTRACT_ROOT)\n",
        "print(\"Extraído para:\", EXTRACT_ROOT)\n",
        "\n",
        "# 3) Localizar a pasta PetImages (deve conter Cat/ e Dog/)\n",
        "pet_dir = None\n",
        "for p in EXTRACT_ROOT.rglob(\"*\"):\n",
        "    if p.is_dir() and p.name == \"PetImages\":\n",
        "        pet_dir = p\n",
        "        break\n",
        "print(\"PetImages:\", pet_dir)\n",
        "\n",
        "# 4) Conferir diretórios e contagens\n",
        "def count_files(d: Path):\n",
        "    if d is None or not d.is_dir():\n",
        "        return 0\n",
        "    return sum(1 for f in d.iterdir() if f.is_file())\n",
        "\n",
        "cat_dir = pet_dir / \"Cat\" if pet_dir else None\n",
        "dog_dir = pet_dir / \"Dog\" if pet_dir else None\n",
        "\n",
        "print(\"Cat dir:\", cat_dir, \"exists:\", bool(cat_dir and cat_dir.is_dir()))\n",
        "print(\"Dog dir:\", dog_dir, \"exists:\", bool(dog_dir and dog_dir.is_dir()))\n",
        "print(\"n Cat files:\", count_files(cat_dir))\n",
        "print(\"n Dog files:\", count_files(dog_dir))\n",
        "\n",
        "# 5) Mostrar alguns nomes de arquivo só para amostrar\n",
        "if cat_dir and cat_dir.is_dir():\n",
        "    cat_samples = [p.name for p in list(cat_dir.iterdir())[:5]]\n",
        "    print(\"Cat samples:\", cat_samples)\n",
        "if dog_dir and dog_dir.is_dir():\n",
        "    dog_samples = [p.name for p in list(dog_dir.iterdir())[:5]]\n",
        "    print(\"Dog samples:\", dog_samples)\n"
      ],
      "metadata": {
        "colab": {
          "base_uri": "https://localhost:8080/"
        },
        "id": "6kTp2X-gfIQk",
        "outputId": "1758178b-29e5-471a-8f22-1312adc0b0ff"
      },
      "execution_count": 2,
      "outputs": [
        {
          "output_type": "stream",
          "name": "stdout",
          "text": [
            "Downloading data from https://download.microsoft.com/download/3/e/1/3e1c3f21-ecdb-4869-8368-6deba77b919f/kagglecatsanddogs_5340.zip\n",
            "\u001b[1m824887076/824887076\u001b[0m \u001b[32m━━━━━━━━━━━━━━━━━━━━\u001b[0m\u001b[37m\u001b[0m \u001b[1m10s\u001b[0m 0us/step\n",
            "ZIP baixado: /root/.keras/datasets/kagglecatsanddogs_5340.zip | existe? True\n",
            "Extraído para: /content/datasets_ms\n",
            "PetImages: /content/datasets_ms/PetImages\n",
            "Cat dir: /content/datasets_ms/PetImages/Cat exists: True\n",
            "Dog dir: /content/datasets_ms/PetImages/Dog exists: True\n",
            "n Cat files: 12501\n",
            "n Dog files: 12501\n",
            "Cat samples: ['7936.jpg', '12298.jpg', '7864.jpg', '4607.jpg', '2885.jpg']\n",
            "Dog samples: ['7936.jpg', '12298.jpg', '7864.jpg', '4607.jpg', '2885.jpg']\n"
          ]
        }
      ]
    },
    {
      "cell_type": "code",
      "source": [
        "# Passo 2 — Splits + tf.data (robusto, sem libs extras)\n",
        "\n",
        "import random\n",
        "from pathlib import Path\n",
        "import tensorflow as tf\n",
        "\n",
        "SEED = 123\n",
        "random.seed(SEED)\n",
        "\n",
        "BASE = Path(\"/content/datasets_ms/PetImages\")\n",
        "CAT_DIR = BASE / \"Cat\"\n",
        "DOG_DIR = BASE / \"Dog\"\n",
        "\n",
        "# 2.1) Listar apenas .jpg / .jpeg (reduz chance de erro de decodificação)\n",
        "def list_jpegs(p: Path):\n",
        "    return [str(x) for x in p.iterdir() if x.is_file() and x.suffix.lower() in (\".jpg\",\".jpeg\")]\n",
        "\n",
        "cat_files = list_jpegs(CAT_DIR)\n",
        "dog_files = list_jpegs(DOG_DIR)\n",
        "\n",
        "print(\"Arquivos listados -> cats:\", len(cat_files), \"| dogs:\", len(dog_files))\n",
        "\n",
        "# 2.2) Embaralhar e split 80/10/10\n",
        "def split_files(files, seed=SEED):\n",
        "    files = files[:]  # cópia\n",
        "    random.shuffle(files)\n",
        "    n = len(files)\n",
        "    n_train = int(0.8 * n)\n",
        "    n_val   = int(0.1 * n)\n",
        "    train = files[:n_train]\n",
        "    val   = files[n_train:n_train+n_val]\n",
        "    test  = files[n_train+n_val:]\n",
        "    return train, val, test\n",
        "\n",
        "cat_train, cat_val, cat_test = split_files(cat_files)\n",
        "dog_train, dog_val, dog_test = split_files(dog_files)\n",
        "\n",
        "train_paths = cat_train + dog_train\n",
        "train_labels = [0]*len(cat_train) + [1]*len(dog_train)\n",
        "\n",
        "val_paths = cat_val + dog_val\n",
        "val_labels = [0]*len(cat_val) + [1]*len(dog_val)\n",
        "\n",
        "test_paths = cat_test + dog_test\n",
        "test_labels = [0]*len(cat_test) + [1]*len(dog_test)\n",
        "\n",
        "print(\"Tamanhos -> train:\", len(train_paths), \"val:\", len(val_paths), \"test:\", len(test_paths))\n",
        "\n",
        "# 2.3) Criar tf.data que ignora arquivos problemáticos\n",
        "IMG_SIZE = 224\n",
        "BATCH_SIZE = 32\n",
        "AUTO = tf.data.AUTOTUNE\n",
        "\n",
        "def decode_and_resize(path, label):\n",
        "    # lê bytes + decodifica jpeg (3 canais), redimensiona e aplica preprocess da MobileNetV2\n",
        "    img = tf.io.read_file(path)\n",
        "    img = tf.io.decode_jpeg(img, channels=3)   # se o arquivo estiver corrompido, essa linha pode falhar\n",
        "    img = tf.image.resize(img, [IMG_SIZE, IMG_SIZE])\n",
        "    img = tf.keras.applications.mobilenet_v2.preprocess_input(img)\n",
        "    return img, label\n",
        "\n",
        "def make_ds(paths, labels, training=False):\n",
        "    ds = tf.data.Dataset.from_tensor_slices((paths, labels))\n",
        "    if training:\n",
        "        ds = ds.shuffle(4096, seed=SEED, reshuffle_each_iteration=True)\n",
        "    ds = ds.map(decode_and_resize, num_parallel_calls=AUTO)\n",
        "    # ignora qualquer exemplo que falhar em decode_and_resize (ex.: imagem corrompida)\n",
        "    ds = ds.apply(tf.data.experimental.ignore_errors())\n",
        "    ds = ds.batch(BATCH_SIZE).prefetch(AUTO)\n",
        "    return ds\n",
        "\n",
        "train_ds = make_ds(train_paths, train_labels, training=True)\n",
        "val_ds   = make_ds(val_paths,   val_labels,   training=False)\n",
        "test_ds  = make_ds(test_paths,  test_labels,  training=False)\n",
        "\n",
        "# 2.4) Verificar cardinalidade e um batch de exemplo\n",
        "card_train = tf.data.experimental.cardinality(train_ds).numpy()\n",
        "card_val   = tf.data.experimental.cardinality(val_ds).numpy()\n",
        "card_test  = tf.data.experimental.cardinality(test_ds).numpy()\n",
        "print(\"Batches -> train:\", card_train, \"val:\", card_val, \"test:\", card_test)\n",
        "\n",
        "x_batch, y_batch = next(iter(train_ds))\n",
        "print(\"Batch shape:\", x_batch.shape, y_batch.shape, \"| y sample:\", y_batch[:10].numpy())\n"
      ],
      "metadata": {
        "colab": {
          "base_uri": "https://localhost:8080/"
        },
        "id": "X3I6CqwPf9Mj",
        "outputId": "8edb1e93-98e0-41a4-d72f-95b3aa183847"
      },
      "execution_count": 4,
      "outputs": [
        {
          "output_type": "stream",
          "name": "stdout",
          "text": [
            "Arquivos listados -> cats: 12500 | dogs: 12500\n",
            "Tamanhos -> train: 20000 val: 2500 test: 2500\n"
          ]
        },
        {
          "output_type": "stream",
          "name": "stderr",
          "text": [
            "WARNING:tensorflow:From /tmp/ipython-input-3153743196.py:68: ignore_errors (from tensorflow.python.data.experimental.ops.error_ops) is deprecated and will be removed in a future version.\n",
            "Instructions for updating:\n",
            "Use `tf.data.Dataset.ignore_errors` instead.\n"
          ]
        },
        {
          "output_type": "stream",
          "name": "stdout",
          "text": [
            "Batches -> train: -2 val: -2 test: -2\n",
            "Batch shape: (32, 224, 224, 3) (32,) | y sample: [0 0 0 0 0 0 0 0 0 0]\n"
          ]
        }
      ]
    },
    {
      "cell_type": "code",
      "source": [
        "# Passo 3 — Modelo MobileNetV2 (feature extractor) + cabeça binária\n",
        "import tensorflow as tf\n",
        "\n",
        "IMG_SIZE = 224\n",
        "\n",
        "base = tf.keras.applications.MobileNetV2(\n",
        "    input_shape=(IMG_SIZE, IMG_SIZE, 3),\n",
        "    include_top=False,\n",
        "    weights=\"imagenet\"\n",
        ")\n",
        "base.trainable = False  # fase 1: extrator de features congelado\n",
        "\n",
        "inputs = tf.keras.Input(shape=(IMG_SIZE, IMG_SIZE, 3))\n",
        "x = base(inputs, training=False)\n",
        "x = tf.keras.layers.GlobalAveragePooling2D()(x)\n",
        "outputs = tf.keras.layers.Dense(1, activation=\"sigmoid\")(x)\n",
        "\n",
        "model = tf.keras.Model(inputs, outputs)\n",
        "model.compile(\n",
        "    optimizer=tf.keras.optimizers.Adam(1e-3),\n",
        "    loss=\"binary_crossentropy\",\n",
        "    metrics=[\"accuracy\"]\n",
        ")\n",
        "\n",
        "model.summary()\n"
      ],
      "metadata": {
        "colab": {
          "base_uri": "https://localhost:8080/",
          "height": 341
        },
        "id": "ogLq6dmPgauZ",
        "outputId": "ea55f639-7ea5-42f3-8119-c026d495fc59"
      },
      "execution_count": 5,
      "outputs": [
        {
          "output_type": "stream",
          "name": "stdout",
          "text": [
            "Downloading data from https://storage.googleapis.com/tensorflow/keras-applications/mobilenet_v2/mobilenet_v2_weights_tf_dim_ordering_tf_kernels_1.0_224_no_top.h5\n",
            "\u001b[1m9406464/9406464\u001b[0m \u001b[32m━━━━━━━━━━━━━━━━━━━━\u001b[0m\u001b[37m\u001b[0m \u001b[1m0s\u001b[0m 0us/step\n"
          ]
        },
        {
          "output_type": "display_data",
          "data": {
            "text/plain": [
              "\u001b[1mModel: \"functional\"\u001b[0m\n"
            ],
            "text/html": [
              "<pre style=\"white-space:pre;overflow-x:auto;line-height:normal;font-family:Menlo,'DejaVu Sans Mono',consolas,'Courier New',monospace\"><span style=\"font-weight: bold\">Model: \"functional\"</span>\n",
              "</pre>\n"
            ]
          },
          "metadata": {}
        },
        {
          "output_type": "display_data",
          "data": {
            "text/plain": [
              "┏━━━━━━━━━━━━━━━━━━━━━━━━━━━━━━━━━┳━━━━━━━━━━━━━━━━━━━━━━━━┳━━━━━━━━━━━━━━━┓\n",
              "┃\u001b[1m \u001b[0m\u001b[1mLayer (type)                   \u001b[0m\u001b[1m \u001b[0m┃\u001b[1m \u001b[0m\u001b[1mOutput Shape          \u001b[0m\u001b[1m \u001b[0m┃\u001b[1m \u001b[0m\u001b[1m      Param #\u001b[0m\u001b[1m \u001b[0m┃\n",
              "┡━━━━━━━━━━━━━━━━━━━━━━━━━━━━━━━━━╇━━━━━━━━━━━━━━━━━━━━━━━━╇━━━━━━━━━━━━━━━┩\n",
              "│ input_layer_1 (\u001b[38;5;33mInputLayer\u001b[0m)      │ (\u001b[38;5;45mNone\u001b[0m, \u001b[38;5;34m224\u001b[0m, \u001b[38;5;34m224\u001b[0m, \u001b[38;5;34m3\u001b[0m)    │             \u001b[38;5;34m0\u001b[0m │\n",
              "├─────────────────────────────────┼────────────────────────┼───────────────┤\n",
              "│ mobilenetv2_1.00_224            │ (\u001b[38;5;45mNone\u001b[0m, \u001b[38;5;34m7\u001b[0m, \u001b[38;5;34m7\u001b[0m, \u001b[38;5;34m1280\u001b[0m)     │     \u001b[38;5;34m2,257,984\u001b[0m │\n",
              "│ (\u001b[38;5;33mFunctional\u001b[0m)                    │                        │               │\n",
              "├─────────────────────────────────┼────────────────────────┼───────────────┤\n",
              "│ global_average_pooling2d        │ (\u001b[38;5;45mNone\u001b[0m, \u001b[38;5;34m1280\u001b[0m)           │             \u001b[38;5;34m0\u001b[0m │\n",
              "│ (\u001b[38;5;33mGlobalAveragePooling2D\u001b[0m)        │                        │               │\n",
              "├─────────────────────────────────┼────────────────────────┼───────────────┤\n",
              "│ dense (\u001b[38;5;33mDense\u001b[0m)                   │ (\u001b[38;5;45mNone\u001b[0m, \u001b[38;5;34m1\u001b[0m)              │         \u001b[38;5;34m1,281\u001b[0m │\n",
              "└─────────────────────────────────┴────────────────────────┴───────────────┘\n"
            ],
            "text/html": [
              "<pre style=\"white-space:pre;overflow-x:auto;line-height:normal;font-family:Menlo,'DejaVu Sans Mono',consolas,'Courier New',monospace\">┏━━━━━━━━━━━━━━━━━━━━━━━━━━━━━━━━━┳━━━━━━━━━━━━━━━━━━━━━━━━┳━━━━━━━━━━━━━━━┓\n",
              "┃<span style=\"font-weight: bold\"> Layer (type)                    </span>┃<span style=\"font-weight: bold\"> Output Shape           </span>┃<span style=\"font-weight: bold\">       Param # </span>┃\n",
              "┡━━━━━━━━━━━━━━━━━━━━━━━━━━━━━━━━━╇━━━━━━━━━━━━━━━━━━━━━━━━╇━━━━━━━━━━━━━━━┩\n",
              "│ input_layer_1 (<span style=\"color: #0087ff; text-decoration-color: #0087ff\">InputLayer</span>)      │ (<span style=\"color: #00d7ff; text-decoration-color: #00d7ff\">None</span>, <span style=\"color: #00af00; text-decoration-color: #00af00\">224</span>, <span style=\"color: #00af00; text-decoration-color: #00af00\">224</span>, <span style=\"color: #00af00; text-decoration-color: #00af00\">3</span>)    │             <span style=\"color: #00af00; text-decoration-color: #00af00\">0</span> │\n",
              "├─────────────────────────────────┼────────────────────────┼───────────────┤\n",
              "│ mobilenetv2_1.00_224            │ (<span style=\"color: #00d7ff; text-decoration-color: #00d7ff\">None</span>, <span style=\"color: #00af00; text-decoration-color: #00af00\">7</span>, <span style=\"color: #00af00; text-decoration-color: #00af00\">7</span>, <span style=\"color: #00af00; text-decoration-color: #00af00\">1280</span>)     │     <span style=\"color: #00af00; text-decoration-color: #00af00\">2,257,984</span> │\n",
              "│ (<span style=\"color: #0087ff; text-decoration-color: #0087ff\">Functional</span>)                    │                        │               │\n",
              "├─────────────────────────────────┼────────────────────────┼───────────────┤\n",
              "│ global_average_pooling2d        │ (<span style=\"color: #00d7ff; text-decoration-color: #00d7ff\">None</span>, <span style=\"color: #00af00; text-decoration-color: #00af00\">1280</span>)           │             <span style=\"color: #00af00; text-decoration-color: #00af00\">0</span> │\n",
              "│ (<span style=\"color: #0087ff; text-decoration-color: #0087ff\">GlobalAveragePooling2D</span>)        │                        │               │\n",
              "├─────────────────────────────────┼────────────────────────┼───────────────┤\n",
              "│ dense (<span style=\"color: #0087ff; text-decoration-color: #0087ff\">Dense</span>)                   │ (<span style=\"color: #00d7ff; text-decoration-color: #00d7ff\">None</span>, <span style=\"color: #00af00; text-decoration-color: #00af00\">1</span>)              │         <span style=\"color: #00af00; text-decoration-color: #00af00\">1,281</span> │\n",
              "└─────────────────────────────────┴────────────────────────┴───────────────┘\n",
              "</pre>\n"
            ]
          },
          "metadata": {}
        },
        {
          "output_type": "display_data",
          "data": {
            "text/plain": [
              "\u001b[1m Total params: \u001b[0m\u001b[38;5;34m2,259,265\u001b[0m (8.62 MB)\n"
            ],
            "text/html": [
              "<pre style=\"white-space:pre;overflow-x:auto;line-height:normal;font-family:Menlo,'DejaVu Sans Mono',consolas,'Courier New',monospace\"><span style=\"font-weight: bold\"> Total params: </span><span style=\"color: #00af00; text-decoration-color: #00af00\">2,259,265</span> (8.62 MB)\n",
              "</pre>\n"
            ]
          },
          "metadata": {}
        },
        {
          "output_type": "display_data",
          "data": {
            "text/plain": [
              "\u001b[1m Trainable params: \u001b[0m\u001b[38;5;34m1,281\u001b[0m (5.00 KB)\n"
            ],
            "text/html": [
              "<pre style=\"white-space:pre;overflow-x:auto;line-height:normal;font-family:Menlo,'DejaVu Sans Mono',consolas,'Courier New',monospace\"><span style=\"font-weight: bold\"> Trainable params: </span><span style=\"color: #00af00; text-decoration-color: #00af00\">1,281</span> (5.00 KB)\n",
              "</pre>\n"
            ]
          },
          "metadata": {}
        },
        {
          "output_type": "display_data",
          "data": {
            "text/plain": [
              "\u001b[1m Non-trainable params: \u001b[0m\u001b[38;5;34m2,257,984\u001b[0m (8.61 MB)\n"
            ],
            "text/html": [
              "<pre style=\"white-space:pre;overflow-x:auto;line-height:normal;font-family:Menlo,'DejaVu Sans Mono',consolas,'Courier New',monospace\"><span style=\"font-weight: bold\"> Non-trainable params: </span><span style=\"color: #00af00; text-decoration-color: #00af00\">2,257,984</span> (8.61 MB)\n",
              "</pre>\n"
            ]
          },
          "metadata": {}
        }
      ]
    },
    {
      "cell_type": "code",
      "source": [
        "import math, tensorflow as tf\n",
        "\n",
        "# Usamos as variáveis já criadas no Passo 2:\n",
        "# train_paths, val_paths, BATCH_SIZE, train_ds, val_ds\n",
        "\n",
        "steps_per_epoch = (len(train_paths) + BATCH_SIZE - 1) // BATCH_SIZE\n",
        "val_steps       = (len(val_paths)   + BATCH_SIZE - 1) // BATCH_SIZE\n",
        "\n",
        "print(\"steps_per_epoch:\", steps_per_epoch, \"| val_steps:\", val_steps)\n",
        "\n",
        "callbacks = [\n",
        "    tf.keras.callbacks.EarlyStopping(\n",
        "        monitor=\"val_accuracy\",\n",
        "        patience=2,\n",
        "        restore_best_weights=True\n",
        "    )\n",
        "]\n",
        "\n",
        "history1 = model.fit(\n",
        "    train_ds,\n",
        "    validation_data=val_ds,\n",
        "    steps_per_epoch=steps_per_epoch,\n",
        "    validation_steps=val_steps,\n",
        "    epochs=3,   # CPU: começamos curto; depois podemos aumentar\n",
        "    callbacks=callbacks,\n",
        "    verbose=1\n",
        ")\n"
      ],
      "metadata": {
        "colab": {
          "base_uri": "https://localhost:8080/"
        },
        "id": "U2pXp2YAgwCU",
        "outputId": "c9e9ff21-6bc1-44f2-def1-17f9a57fd816"
      },
      "execution_count": 6,
      "outputs": [
        {
          "output_type": "stream",
          "name": "stdout",
          "text": [
            "steps_per_epoch: 625 | val_steps: 79\n",
            "Epoch 1/3\n",
            "\u001b[1m621/625\u001b[0m \u001b[32m━━━━━━━━━━━━━━━━━━━\u001b[0m\u001b[37m━\u001b[0m \u001b[1m5s\u001b[0m 1s/step - accuracy: 0.9910 - loss: 0.0455"
          ]
        },
        {
          "output_type": "stream",
          "name": "stderr",
          "text": [
            "/usr/local/lib/python3.12/dist-packages/keras/src/trainers/epoch_iterator.py:160: UserWarning: Your input ran out of data; interrupting training. Make sure that your dataset or generator can generate at least `steps_per_epoch * epochs` batches. You may need to use the `.repeat()` function when building your dataset.\n",
            "  self._interrupted_warning()\n"
          ]
        },
        {
          "output_type": "stream",
          "name": "stdout",
          "text": [
            "\b\b\b\b\b\b\b\b\b\b\b\b\b\b\b\b\b\b\b\b\b\b\b\b\b\b\b\b\b\b\b\b\b\b\b\b\b\b\b\b\b\b\b\b\b\b\b\b\b\b\b\b\b\b\b\b\b\b\b\b\b\b\b\b\b\b\b\b\b\b\b\b\b\r\u001b[1m625/625\u001b[0m \u001b[32m━━━━━━━━━━━━━━━━━━━━\u001b[0m\u001b[37m\u001b[0m \u001b[1m897s\u001b[0m 1s/step - accuracy: 0.9910 - loss: 0.0455 - val_accuracy: 0.9645 - val_loss: 0.1292\n",
            "Epoch 2/3\n",
            "\u001b[1m625/625\u001b[0m \u001b[32m━━━━━━━━━━━━━━━━━━━━\u001b[0m\u001b[37m\u001b[0m \u001b[1m873s\u001b[0m 1s/step - accuracy: 0.9921 - loss: 0.0205 - val_accuracy: 0.9810 - val_loss: 0.0637\n",
            "Epoch 3/3\n",
            "\u001b[1m625/625\u001b[0m \u001b[32m━━━━━━━━━━━━━━━━━━━━\u001b[0m\u001b[37m\u001b[0m \u001b[1m878s\u001b[0m 1s/step - accuracy: 0.9944 - loss: 0.0158 - val_accuracy: 0.9794 - val_loss: 0.0688\n"
          ]
        }
      ]
    },
    {
      "cell_type": "code",
      "source": [
        "import tensorflow as tf\n",
        "\n",
        "# Descongela um pedaço final da base (evita BatchNorm)\n",
        "for layer in base.layers[-40:]:\n",
        "    if isinstance(layer, tf.keras.layers.BatchNormalization):\n",
        "        layer.trainable = False\n",
        "    else:\n",
        "        layer.trainable = True\n",
        "\n",
        "# LR menor para fine-tuning\n",
        "model.compile(\n",
        "    optimizer=tf.keras.optimizers.Adam(1e-5),\n",
        "    loss=\"binary_crossentropy\",\n",
        "    metrics=[\"accuracy\"]\n",
        ")\n",
        "\n",
        "# Evitar \"ran out of data\": repetir apenas o treino\n",
        "train_ds_ft = train_ds.repeat()\n",
        "\n",
        "history2 = model.fit(\n",
        "    train_ds_ft,\n",
        "    validation_data=val_ds,\n",
        "    steps_per_epoch=steps_per_epoch,   # mesmas contas do passo anterior\n",
        "    validation_steps=val_steps,\n",
        "    epochs=2,                          # pode aumentar depois se quiser\n",
        "    callbacks=callbacks,\n",
        "    verbose=1\n",
        ")\n"
      ],
      "metadata": {
        "colab": {
          "base_uri": "https://localhost:8080/"
        },
        "id": "RtCrOJMhsOPU",
        "outputId": "0828d265-cd70-47be-e399-20e668391a50"
      },
      "execution_count": 7,
      "outputs": [
        {
          "output_type": "stream",
          "name": "stdout",
          "text": [
            "Epoch 1/2\n",
            "\u001b[1m625/625\u001b[0m \u001b[32m━━━━━━━━━━━━━━━━━━━━\u001b[0m\u001b[37m\u001b[0m \u001b[1m1097s\u001b[0m 2s/step - accuracy: 0.9947 - loss: 0.0149 - val_accuracy: 0.9770 - val_loss: 0.0743\n",
            "Epoch 2/2\n",
            "\u001b[1m625/625\u001b[0m \u001b[32m━━━━━━━━━━━━━━━━━━━━\u001b[0m\u001b[37m\u001b[0m \u001b[1m1071s\u001b[0m 2s/step - accuracy: 0.9962 - loss: 0.0098 - val_accuracy: 0.9887 - val_loss: 0.0352\n"
          ]
        }
      ]
    },
    {
      "cell_type": "code",
      "source": [
        "import numpy as np\n",
        "import tensorflow as tf\n",
        "\n",
        "# Itera sobre test_ds coletando as labels reais e as probabilidades previstas\n",
        "y_true_list, y_prob_list = [], []\n",
        "for xb, yb in test_ds:\n",
        "    y_true_list.append(yb.numpy())\n",
        "    y_prob_list.append(model.predict(xb, verbose=0).ravel())\n",
        "\n",
        "y_true = np.concatenate(y_true_list).astype(int)\n",
        "y_prob = np.concatenate(y_prob_list)\n",
        "y_pred = (y_prob >= 0.5).astype(int)\n",
        "\n",
        "# Acurácia\n",
        "acc = (y_pred == y_true).mean()\n",
        "\n",
        "# Matriz de confusão (2x2) sem sklearn\n",
        "cm = np.zeros((2, 2), dtype=int)\n",
        "for t, p in zip(y_true, y_pred):\n",
        "    cm[t, p] += 1\n",
        "\n",
        "# AUC com métrica do TF\n",
        "auc_metric = tf.keras.metrics.AUC(curve=\"ROC\")\n",
        "auc_metric.update_state(y_true, y_prob)\n",
        "auc_val = float(auc_metric.result().numpy())\n",
        "\n",
        "print(f\"Test Accuracy: {acc:.4f}\")\n",
        "print(f\"Test ROC AUC:  {auc_val:.4f}\")\n",
        "print(\"Confusion Matrix (rows=true [cat,dog], cols=pred [cat,dog]):\\n\", cm)\n"
      ],
      "metadata": {
        "colab": {
          "base_uri": "https://localhost:8080/"
        },
        "id": "yTKHAPAr_LWF",
        "outputId": "d13ed052-2ccc-45c3-f0ac-6bc5d7fda380"
      },
      "execution_count": 8,
      "outputs": [
        {
          "output_type": "stream",
          "name": "stdout",
          "text": [
            "Test Accuracy: 0.9895\n",
            "Test ROC AUC:  0.9997\n",
            "Confusion Matrix (rows=true [cat,dog], cols=pred [cat,dog]):\n",
            " [[1231    9]\n",
            " [  17 1221]]\n"
          ]
        }
      ]
    },
    {
      "cell_type": "code",
      "source": [
        "import os\n",
        "\n",
        "SAVE_DIR = \"/content/export_simple\"\n",
        "os.makedirs(SAVE_DIR, exist_ok=True)\n",
        "\n",
        "keras_path = os.path.join(SAVE_DIR, \"cats_dogs_mobilenetv2.keras\")\n",
        "model.save(keras_path)  # formato nativo do Keras 3\n",
        "print(\"Modelo salvo em:\", keras_path)\n"
      ],
      "metadata": {
        "colab": {
          "base_uri": "https://localhost:8080/"
        },
        "id": "tNVPr5P7_72X",
        "outputId": "cede5477-04d4-4e15-bb3b-0d6defe463b4"
      },
      "execution_count": 9,
      "outputs": [
        {
          "output_type": "stream",
          "name": "stdout",
          "text": [
            "Modelo salvo em: /content/export_simple/cats_dogs_mobilenetv2.keras\n"
          ]
        }
      ]
    },
    {
      "cell_type": "code",
      "source": [
        "import numpy as np, matplotlib.pyplot as plt\n",
        "import tensorflow as tf\n",
        "\n",
        "# Recalcula métricas no test_ds\n",
        "y_true, y_prob = [], []\n",
        "for xb, yb in test_ds:\n",
        "    y_true.append(yb.numpy())\n",
        "    y_prob.append(model.predict(xb, verbose=0).ravel())\n",
        "y_true = np.concatenate(y_true).astype(int)\n",
        "y_prob = np.concatenate(y_prob)\n",
        "y_pred = (y_prob >= 0.5).astype(int)\n",
        "\n",
        "acc = (y_pred == y_true).mean()\n",
        "\n",
        "auc_metric = tf.keras.metrics.AUC(curve=\"ROC\")\n",
        "auc_metric.update_state(y_true, y_prob)\n",
        "auc_val = float(auc_metric.result().numpy())\n",
        "\n",
        "# Matriz de confusão 2x2 (cat=0, dog=1)\n",
        "cm = np.zeros((2,2), dtype=int)\n",
        "for t, p in zip(y_true, y_pred):\n",
        "    cm[t, p] += 1\n",
        "\n",
        "print(f\"Test Accuracy: {acc:.4f}\")\n",
        "print(f\"Test ROC AUC:  {auc_val:.4f}\")\n",
        "print(\"Confusion Matrix (rows=true [cat,dog], cols=pred [cat,dog]):\\n\", cm)\n",
        "\n",
        "# Figura da matriz\n",
        "plt.figure()\n",
        "plt.imshow(cm, interpolation='nearest')\n",
        "plt.title(\"Matriz de Confusão (Cats vs Dogs)\")\n",
        "plt.xticks([0,1], [\"cat\",\"dog\"]); plt.yticks([0,1], [\"cat\",\"dog\"])\n",
        "for (i,j), v in np.ndenumerate(cm):\n",
        "    plt.text(j, i, str(v), ha='center', va='center')\n",
        "plt.colorbar(); plt.tight_layout(); plt.show()\n"
      ],
      "metadata": {
        "colab": {
          "base_uri": "https://localhost:8080/",
          "height": 574
        },
        "id": "IolHQd_XBAmU",
        "outputId": "3541f336-8911-42a4-a2a9-ddf13c3acaf4"
      },
      "execution_count": 10,
      "outputs": [
        {
          "output_type": "stream",
          "name": "stdout",
          "text": [
            "Test Accuracy: 0.9895\n",
            "Test ROC AUC:  0.9997\n",
            "Confusion Matrix (rows=true [cat,dog], cols=pred [cat,dog]):\n",
            " [[1231    9]\n",
            " [  17 1221]]\n"
          ]
        },
        {
          "output_type": "display_data",
          "data": {
            "text/plain": [
              "<Figure size 640x480 with 2 Axes>"
            ],
            "image/png": "[encoded data removed]"
          },
          "metadata": {}
        }
      ]
    },
    {
      "cell_type": "code",
      "source": [
        "import os, numpy as np, matplotlib.pyplot as plt, tensorflow as tf\n",
        "\n",
        "SAVE_DIR = \"/content/export_simple\"\n",
        "os.makedirs(SAVE_DIR, exist_ok=True)\n",
        "\n",
        "# 1) Recalcular métricas e matriz de confusão\n",
        "y_true, y_prob = [], []\n",
        "for xb, yb in test_ds:\n",
        "    y_true.append(yb.numpy())\n",
        "    y_prob.append(model.predict(xb, verbose=0).ravel())\n",
        "y_true = np.concatenate(y_true).astype(int)\n",
        "y_prob = np.concatenate(y_prob)\n",
        "y_pred = (y_prob >= 0.5).astype(int)\n",
        "\n",
        "acc = (y_pred == y_true).mean()\n",
        "\n",
        "auc_metric = tf.keras.metrics.AUC(curve=\"ROC\")\n",
        "auc_metric.update_state(y_true, y_prob)\n",
        "auc_val = float(auc_metric.result().numpy())\n",
        "\n",
        "cm = np.zeros((2,2), dtype=int)\n",
        "for t, p in zip(y_true, y_pred):\n",
        "    cm[t, p] += 1\n",
        "\n",
        "# 2) Figura: matriz de confusão\n",
        "plt.figure()\n",
        "plt.imshow(cm, interpolation='nearest')\n",
        "plt.title(\"Confusion Matrix (Cats vs Dogs)\")\n",
        "plt.xticks([0,1], [\"cat\",\"dog\"]); plt.yticks([0,1], [\"cat\",\"dog\"])\n",
        "for (i,j), v in np.ndenumerate(cm):\n",
        "    plt.text(j, i, str(v), ha='center', va='center')\n",
        "plt.colorbar(); plt.tight_layout()\n",
        "cm_path = os.path.join(SAVE_DIR, \"confusion_matrix.png\")\n",
        "plt.savefig(cm_path, dpi=140); plt.close()\n",
        "\n",
        "# 3) Figura: amostras do teste com predição\n",
        "#    (inverte preprocess_input: x in [-1,1] -> [0,255])\n",
        "imgs_shown = 16\n",
        "shown = 0\n",
        "plt.figure(figsize=(10,10))\n",
        "for xb, yb in test_ds.take(1):\n",
        "    probs = model.predict(xb, verbose=0).ravel()\n",
        "    for i in range(min(imgs_shown, xb.shape[0])):\n",
        "        x = xb[i].numpy()\n",
        "        x = np.clip((x + 1.0) * 127.5, 0, 255).astype(np.uint8)  # deprocess\n",
        "        t = int(yb[i].numpy()); p = int(probs[i] >= 0.5)\n",
        "        plt.subplot(4,4,i+1)\n",
        "        plt.imshow(x)\n",
        "        plt.axis(\"off\")\n",
        "        plt.title(f\"pred:{'dog' if p else 'cat'}\\nprob:{probs[i]:.2f} | true:{'dog' if t else 'cat'}\", fontsize=8)\n",
        "        shown += 1\n",
        "        if shown >= imgs_shown:\n",
        "            break\n",
        "samples_path = os.path.join(SAVE_DIR, \"test_samples_predictions.png\")\n",
        "plt.tight_layout(); plt.savefig(samples_path, dpi=140); plt.close()\n",
        "\n",
        "# 4) Curvas (se history1/2 existem no ambiente)\n",
        "try:\n",
        "    def plot_and_save(histories, metric, outname):\n",
        "        plt.figure()\n",
        "        for i,h in enumerate(histories):\n",
        "            if metric in h.history and f\"val_{metric}\" in h.history:\n",
        "                plt.plot(h.history[metric], label=f\"train {metric} (phase {i+1})\")\n",
        "                plt.plot(h.history[f\"val_{metric}\"], label=f\"val {metric} (phase {i+1})\")\n",
        "        plt.xlabel(\"Epoch\"); plt.ylabel(metric.title()); plt.legend(); plt.grid(True)\n",
        "        path = os.path.join(SAVE_DIR, outname)\n",
        "        plt.savefig(path, dpi=140); plt.close()\n",
        "        return path\n",
        "\n",
        "    acc_curve = plot_and_save([history1, history2], \"accuracy\", \"curve_accuracy.png\")\n",
        "except NameError:\n",
        "    acc_curve = None\n",
        "\n",
        "print(\"Artefatos salvos em:\", SAVE_DIR)\n",
        "print(\"Accuracy:\", round(acc,4), \"| AUC:\", round(auc_val,4))\n",
        "print(\"Confusion matrix:\\n\", cm)\n"
      ],
      "metadata": {
        "colab": {
          "base_uri": "https://localhost:8080/"
        },
        "id": "5-ZvKZ18HwdK",
        "outputId": "456ac944-cddc-4f90-f4a8-22cdaedca30b"
      },
      "execution_count": 11,
      "outputs": [
        {
          "output_type": "stream",
          "name": "stdout",
          "text": [
            "Artefatos salvos em: /content/export_simple\n",
            "Accuracy: 0.9895 | AUC: 0.9997\n",
            "Confusion matrix:\n",
            " [[1231    9]\n",
            " [  17 1221]]\n"
          ]
        }
      ]
    },
    {
      "cell_type": "code",
      "source": [
        "import os\n",
        "\n",
        "readme_lines = [\n",
        "\"# Transfer Learning — Cats vs Dogs (Kaggle/Microsoft)\\n\",\n",
        "\"\\n- **Modelo:** MobileNetV2 (ImageNet) com cabeça densa sigmoide\\n\",\n",
        "\"- **Pipeline:** `tf.data` (decode_jpeg → resize 224 → preprocess_input), ignorando imagens inválidas\\n\",\n",
        "\"- **Treino:** Fase 1 (base congelada) + Fine-tuning (topo destravado)\\n\",\n",
        "\"\\n## Resultados (teste)\\n\",\n",
        "f\"- Accuracy: **{acc:.4f}**\\n\",\n",
        "f\"- ROC AUC: **{auc_val:.4f}**\\n\",\n",
        "\"- Matriz de confusão (linhas=verdadeiro [cat,dog], colunas=previsto [cat,dog]):\\n\",\n",
        "\"```\\n\",\n",
        "f\"{cm}\\n\",\n",
        "\"```\\n\",\n",
        "\"\\n## Artefatos\\n\",\n",
        "\"- `cats_dogs_mobilenetv2.keras`\\n\",\n",
        "\"- `confusion_matrix.png`\\n\",\n",
        "\"- `test_samples_predictions.png`\\n\",\n",
        "]\n",
        "\n",
        "readme = \"\".join(readme_lines)\n",
        "\n",
        "SAVE_DIR = \"/content/export_simple\"\n",
        "os.makedirs(SAVE_DIR, exist_ok=True)\n",
        "path = os.path.join(SAVE_DIR, \"README.md\")\n",
        "with open(path, \"w\", encoding=\"utf-8\") as f:\n",
        "    f.write(readme)\n",
        "\n",
        "print(\"README.md criado em:\", path)\n"
      ],
      "metadata": {
        "colab": {
          "base_uri": "https://localhost:8080/"
        },
        "id": "hcPaSrXfIZnG",
        "outputId": "17d5ea14-522b-4d02-d237-6dd230b9803f"
      },
      "execution_count": 13,
      "outputs": [
        {
          "output_type": "stream",
          "name": "stdout",
          "text": [
            "README.md criado em: /content/export_simple/README.md\n"
          ]
        }
      ]
    },
    {
      "cell_type": "code",
      "source": [
        "import shutil, os\n",
        "zip_path = \"/content/cats_dogs_export.zip\"\n",
        "if os.path.exists(zip_path):\n",
        "    os.remove(zip_path)\n",
        "shutil.make_archive(\"/content/cats_dogs_export\", \"zip\", SAVE_DIR)\n",
        "\n",
        "from google.colab import files\n",
        "print(\"ZIP pronto em:\", zip_path)\n",
        "files.download(zip_path)\n"
      ],
      "metadata": {
        "colab": {
          "base_uri": "https://localhost:8080/",
          "height": 34
        },
        "id": "qtdcbo21Itvd",
        "outputId": "74aacf8b-74b4-4dfc-b076-01f171efe389"
      },
      "execution_count": 14,
      "outputs": [
        {
          "output_type": "stream",
          "name": "stdout",
          "text": [
            "ZIP pronto em: /content/cats_dogs_export.zip\n"
          ]
        },
        {
          "output_type": "display_data",
          "data": {
            "text/plain": [
              "<IPython.core.display.Javascript object>"
            ],
            "application/javascript": [
              "\n",
              "    async function download(id, filename, size) {\n",
              "      if (!google.colab.kernel.accessAllowed) {\n",
              "        return;\n",
              "      }\n",
              "      const div = document.createElement('div');\n",
              "      const label = document.createElement('label');\n",
              "      label.textContent = `Downloading \"${filename}\": `;\n",
              "      div.appendChild(label);\n",
              "      const progress = document.createElement('progress');\n",
              "      progress.max = size;\n",
              "      div.appendChild(progress);\n",
              "      document.body.appendChild(div);\n",
              "\n",
              "      const buffers = [];\n",
              "      let downloaded = 0;\n",
              "\n",
              "      const channel = await google.colab.kernel.comms.open(id);\n",
              "      // Send a message to notify the kernel that we're ready.\n",
              "      channel.send({})\n",
              "\n",
              "      for await (const message of channel.messages) {\n",
              "        // Send a message to notify the kernel that we're ready.\n",
              "        channel.send({})\n",
              "        if (message.buffers) {\n",
              "          for (const buffer of message.buffers) {\n",
              "            buffers.push(buffer);\n",
              "            downloaded += buffer.byteLength;\n",
              "            progress.value = downloaded;\n",
              "          }\n",
              "        }\n",
              "      }\n",
              "      const blob = new Blob(buffers, {type: 'application/binary'});\n",
              "      const a = document.createElement('a');\n",
              "      a.href = window.URL.createObjectURL(blob);\n",
              "      a.download = filename;\n",
              "      div.appendChild(a);\n",
              "      a.click();\n",
              "      div.remove();\n",
              "    }\n",
              "  "
            ]
          },
          "metadata": {}
        },
        {
          "output_type": "display_data",
          "data": {
            "text/plain": [
              "<IPython.core.display.Javascript object>"
            ],
            "application/javascript": [
              "download(\"download_db437329-15d8-4c36-a7c5-7a33d725f97d\", \"cats_dogs_export.zip\", 22911282)"
            ]
          },
          "metadata": {}
        }
      ]
    }
  ]
}